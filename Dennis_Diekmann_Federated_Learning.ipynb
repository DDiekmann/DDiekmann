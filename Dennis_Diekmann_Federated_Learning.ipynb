{
  "nbformat": 4,
  "nbformat_minor": 0,
  "metadata": {
    "colab": {
      "name": "Dennis_Diekmann_Federated_Learning",
      "provenance": [],
      "authorship_tag": "ABX9TyPWqy4rub7HMRaIXm/kbtlI",
      "include_colab_link": true
    },
    "kernelspec": {
      "name": "python3",
      "display_name": "Python 3"
    },
    "language_info": {
      "name": "python"
    }
  },
  "cells": [
    {
      "cell_type": "markdown",
      "metadata": {
        "id": "view-in-github",
        "colab_type": "text"
      },
      "source": [
        "<a href=\"https://colab.research.google.com/github/DDiekmann/DDiekmann/blob/master/Dennis_Diekmann_Federated_Learning.ipynb\" target=\"_parent\"><img src=\"https://colab.research.google.com/assets/colab-badge.svg\" alt=\"Open In Colab\"/></a>"
      ]
    },
    {
      "cell_type": "markdown",
      "metadata": {
        "id": "1KXcUT02fc8u"
      },
      "source": [
        "# Communication-Efficient Learning of Deep Networks from Decentralized Data"
      ]
    },
    {
      "cell_type": "markdown",
      "metadata": {
        "id": "QKOXVtQxfj1k"
      },
      "source": [
        ""
      ]
    },
    {
      "cell_type": "code",
      "metadata": {
        "id": "9xnFhQdqVJDb",
        "outputId": "22081370-620b-452e-d2f2-c85e16e8a214",
        "colab": {
          "base_uri": "https://localhost:8080/"
        }
      },
      "source": [
        "print(\"Hello World. :)\")"
      ],
      "execution_count": 1,
      "outputs": [
        {
          "output_type": "stream",
          "text": [
            "Hello World. :)\n"
          ],
          "name": "stdout"
        }
      ]
    }
  ]
}